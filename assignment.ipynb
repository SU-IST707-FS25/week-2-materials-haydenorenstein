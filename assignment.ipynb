{
 "cells": [
  {
   "cell_type": "markdown",
   "id": "8110fc71",
   "metadata": {
    "problem_id": "ex1"
   },
   "source": [
    "#### Exercise 1\n",
    "<!-- @q -->\n",
    "\n",
    "1. What kinds of EDA techniques might you use to explore the following types of data:\n",
    "    - Numeric data?  \n",
    "    - Categorical data?  \n",
    "    - The relationship between categorical and numeric data?"
   ]
  },
  {
   "cell_type": "markdown",
   "id": "813b98cf",
   "metadata": {
    "part_id": "ex1-part1",
    "span": "ex1-part1.answer",
    "student": true
   },
   "source": [
    "*Numeric data: I would want to run summary statistics to see the distribution of my numeric variables and a create a histogram to vizualize the distribution,\n",
    "\n",
    "Categorical data: I would want to see the counts of each value in a category so if i have a dataset of items that my boss ordered for my company and it contains keyboards, webcams, and mousepads, i want to know how many of each were ordered\n",
    "\n",
    "Relationship: I would create a boxplot that contains the distribution of my numeric variable that is faceted for each individual instance of my categorical variable. Maybe if i performed 50 shows in 5 different cities, i want to see the distribution of attendance for all 5 cities\n",
    "\n",
    "*"
   ]
  },
  {
   "cell_type": "markdown",
   "id": "e5af7624",
   "metadata": {
    "part_id": "ex1-part2"
   },
   "source": [
    "2. Generate some fake data (~1000 rows) with 1 categorical column (with 10 categories) and 2 numeric columns. Use the techniques you mentioned to explore the numeric, categorical, and the relationship between them."
   ]
  },
  {
   "cell_type": "code",
   "execution_count": 4,
   "id": "b78018a6",
   "metadata": {
    "additional_cells_expected": true,
    "part_id": "ex1-part2",
    "span": "ex1-part2.code",
    "student": true
   },
   "outputs": [
    {
     "data": {
      "text/html": [
       "<div>\n",
       "<style scoped>\n",
       "    .dataframe tbody tr th:only-of-type {\n",
       "        vertical-align: middle;\n",
       "    }\n",
       "\n",
       "    .dataframe tbody tr th {\n",
       "        vertical-align: top;\n",
       "    }\n",
       "\n",
       "    .dataframe thead th {\n",
       "        text-align: right;\n",
       "    }\n",
       "</style>\n",
       "<table border=\"1\" class=\"dataframe\">\n",
       "  <thead>\n",
       "    <tr style=\"text-align: right;\">\n",
       "      <th></th>\n",
       "      <th>city</th>\n",
       "      <th>n1</th>\n",
       "      <th>n2</th>\n",
       "    </tr>\n",
       "  </thead>\n",
       "  <tbody>\n",
       "    <tr>\n",
       "      <th>0</th>\n",
       "      <td>SD</td>\n",
       "      <td>9476.137030</td>\n",
       "      <td>97</td>\n",
       "    </tr>\n",
       "    <tr>\n",
       "      <th>1</th>\n",
       "      <td>PHI</td>\n",
       "      <td>9875.938000</td>\n",
       "      <td>48</td>\n",
       "    </tr>\n",
       "    <tr>\n",
       "      <th>2</th>\n",
       "      <td>LA</td>\n",
       "      <td>9853.972980</td>\n",
       "      <td>96</td>\n",
       "    </tr>\n",
       "    <tr>\n",
       "      <th>3</th>\n",
       "      <td>HOU</td>\n",
       "      <td>10488.200533</td>\n",
       "      <td>86</td>\n",
       "    </tr>\n",
       "    <tr>\n",
       "      <th>4</th>\n",
       "      <td>SF</td>\n",
       "      <td>9816.529791</td>\n",
       "      <td>58</td>\n",
       "    </tr>\n",
       "    <tr>\n",
       "      <th>5</th>\n",
       "      <td>PHX</td>\n",
       "      <td>10308.896759</td>\n",
       "      <td>75</td>\n",
       "    </tr>\n",
       "    <tr>\n",
       "      <th>6</th>\n",
       "      <td>SD</td>\n",
       "      <td>9634.161140</td>\n",
       "      <td>64</td>\n",
       "    </tr>\n",
       "    <tr>\n",
       "      <th>7</th>\n",
       "      <td>PHX</td>\n",
       "      <td>10498.767457</td>\n",
       "      <td>87</td>\n",
       "    </tr>\n",
       "    <tr>\n",
       "      <th>8</th>\n",
       "      <td>NYC</td>\n",
       "      <td>10693.046191</td>\n",
       "      <td>54</td>\n",
       "    </tr>\n",
       "    <tr>\n",
       "      <th>9</th>\n",
       "      <td>SF</td>\n",
       "      <td>9678.540623</td>\n",
       "      <td>85</td>\n",
       "    </tr>\n",
       "    <tr>\n",
       "      <th>10</th>\n",
       "      <td>SD</td>\n",
       "      <td>10702.518241</td>\n",
       "      <td>31</td>\n",
       "    </tr>\n",
       "    <tr>\n",
       "      <th>11</th>\n",
       "      <td>SD</td>\n",
       "      <td>10226.534640</td>\n",
       "      <td>76</td>\n",
       "    </tr>\n",
       "    <tr>\n",
       "      <th>12</th>\n",
       "      <td>NYC</td>\n",
       "      <td>9947.300817</td>\n",
       "      <td>85</td>\n",
       "    </tr>\n",
       "    <tr>\n",
       "      <th>13</th>\n",
       "      <td>BOS</td>\n",
       "      <td>9502.822340</td>\n",
       "      <td>23</td>\n",
       "    </tr>\n",
       "    <tr>\n",
       "      <th>14</th>\n",
       "      <td>NYC</td>\n",
       "      <td>9995.030268</td>\n",
       "      <td>2</td>\n",
       "    </tr>\n",
       "    <tr>\n",
       "      <th>15</th>\n",
       "      <td>BOS</td>\n",
       "      <td>8551.807972</td>\n",
       "      <td>79</td>\n",
       "    </tr>\n",
       "    <tr>\n",
       "      <th>16</th>\n",
       "      <td>NYC</td>\n",
       "      <td>10508.716215</td>\n",
       "      <td>90</td>\n",
       "    </tr>\n",
       "    <tr>\n",
       "      <th>17</th>\n",
       "      <td>LA</td>\n",
       "      <td>9688.475319</td>\n",
       "      <td>61</td>\n",
       "    </tr>\n",
       "    <tr>\n",
       "      <th>18</th>\n",
       "      <td>HOU</td>\n",
       "      <td>10307.718987</td>\n",
       "      <td>69</td>\n",
       "    </tr>\n",
       "    <tr>\n",
       "      <th>19</th>\n",
       "      <td>PHX</td>\n",
       "      <td>10297.823700</td>\n",
       "      <td>3</td>\n",
       "    </tr>\n",
       "    <tr>\n",
       "      <th>20</th>\n",
       "      <td>NYC</td>\n",
       "      <td>9944.335598</td>\n",
       "      <td>83</td>\n",
       "    </tr>\n",
       "    <tr>\n",
       "      <th>21</th>\n",
       "      <td>PHI</td>\n",
       "      <td>10641.306056</td>\n",
       "      <td>78</td>\n",
       "    </tr>\n",
       "    <tr>\n",
       "      <th>22</th>\n",
       "      <td>SD</td>\n",
       "      <td>10421.976241</td>\n",
       "      <td>95</td>\n",
       "    </tr>\n",
       "    <tr>\n",
       "      <th>23</th>\n",
       "      <td>BOS</td>\n",
       "      <td>9729.362054</td>\n",
       "      <td>82</td>\n",
       "    </tr>\n",
       "    <tr>\n",
       "      <th>24</th>\n",
       "      <td>PHX</td>\n",
       "      <td>10357.484951</td>\n",
       "      <td>9</td>\n",
       "    </tr>\n",
       "    <tr>\n",
       "      <th>25</th>\n",
       "      <td>PHX</td>\n",
       "      <td>9342.845166</td>\n",
       "      <td>50</td>\n",
       "    </tr>\n",
       "    <tr>\n",
       "      <th>26</th>\n",
       "      <td>SF</td>\n",
       "      <td>10013.040119</td>\n",
       "      <td>95</td>\n",
       "    </tr>\n",
       "    <tr>\n",
       "      <th>27</th>\n",
       "      <td>PHI</td>\n",
       "      <td>9838.336371</td>\n",
       "      <td>70</td>\n",
       "    </tr>\n",
       "    <tr>\n",
       "      <th>28</th>\n",
       "      <td>NYC</td>\n",
       "      <td>10262.510531</td>\n",
       "      <td>38</td>\n",
       "    </tr>\n",
       "    <tr>\n",
       "      <th>29</th>\n",
       "      <td>HOU</td>\n",
       "      <td>10062.466464</td>\n",
       "      <td>14</td>\n",
       "    </tr>\n",
       "  </tbody>\n",
       "</table>\n",
       "</div>"
      ],
      "text/plain": [
       "   city            n1  n2\n",
       "0    SD   9476.137030  97\n",
       "1   PHI   9875.938000  48\n",
       "2    LA   9853.972980  96\n",
       "3   HOU  10488.200533  86\n",
       "4    SF   9816.529791  58\n",
       "5   PHX  10308.896759  75\n",
       "6    SD   9634.161140  64\n",
       "7   PHX  10498.767457  87\n",
       "8   NYC  10693.046191  54\n",
       "9    SF   9678.540623  85\n",
       "10   SD  10702.518241  31\n",
       "11   SD  10226.534640  76\n",
       "12  NYC   9947.300817  85\n",
       "13  BOS   9502.822340  23\n",
       "14  NYC   9995.030268   2\n",
       "15  BOS   8551.807972  79\n",
       "16  NYC  10508.716215  90\n",
       "17   LA   9688.475319  61\n",
       "18  HOU  10307.718987  69\n",
       "19  PHX  10297.823700   3\n",
       "20  NYC   9944.335598  83\n",
       "21  PHI  10641.306056  78\n",
       "22   SD  10421.976241  95\n",
       "23  BOS   9729.362054  82\n",
       "24  PHX  10357.484951   9\n",
       "25  PHX   9342.845166  50\n",
       "26   SF  10013.040119  95\n",
       "27  PHI   9838.336371  70\n",
       "28  NYC  10262.510531  38\n",
       "29  HOU  10062.466464  14"
      ]
     },
     "execution_count": 4,
     "metadata": {},
     "output_type": "execute_result"
    }
   ],
   "source": [
    "import pandas as pd\n",
    "import numpy as np\n",
    "\n",
    "# List of 10 American cities\n",
    "cities = [\n",
    "    \"NYC\", \"LA\", \"CHI\", \"HOU\", \"PHX\",\n",
    "    \"PHI\", \"SF\", \"SD\", \"DAL\", \"BOS\"\n",
    "]\n",
    "\n",
    "# Generate data\n",
    "n = 1000\n",
    "df = pd.DataFrame({\n",
    "    \"city\": np.random.choice(cities, size=n, replace=True),\n",
    "    \"n1\": np.random.normal(loc=10000, scale=500, size=n),\n",
    "    \"n2\": np.random.randint(1, 101, size=n)\n",
    "})\n",
    "\n",
    "df.head(30)\n"
   ]
  },
  {
   "cell_type": "code",
   "execution_count": 5,
   "id": "e9bdce91",
   "metadata": {
    "additional_cells_expected": true,
    "part_id": "ex1-part2",
    "span": "ex1-part2.code",
    "student": true
   },
   "outputs": [
    {
     "data": {
      "text/html": [
       "<div>\n",
       "<style scoped>\n",
       "    .dataframe tbody tr th:only-of-type {\n",
       "        vertical-align: middle;\n",
       "    }\n",
       "\n",
       "    .dataframe tbody tr th {\n",
       "        vertical-align: top;\n",
       "    }\n",
       "\n",
       "    .dataframe thead th {\n",
       "        text-align: right;\n",
       "    }\n",
       "</style>\n",
       "<table border=\"1\" class=\"dataframe\">\n",
       "  <thead>\n",
       "    <tr style=\"text-align: right;\">\n",
       "      <th></th>\n",
       "      <th>n1</th>\n",
       "      <th>n2</th>\n",
       "    </tr>\n",
       "  </thead>\n",
       "  <tbody>\n",
       "    <tr>\n",
       "      <th>count</th>\n",
       "      <td>1000.000000</td>\n",
       "      <td>1000.000000</td>\n",
       "    </tr>\n",
       "    <tr>\n",
       "      <th>mean</th>\n",
       "      <td>9977.568119</td>\n",
       "      <td>49.298000</td>\n",
       "    </tr>\n",
       "    <tr>\n",
       "      <th>std</th>\n",
       "      <td>490.007206</td>\n",
       "      <td>28.830581</td>\n",
       "    </tr>\n",
       "    <tr>\n",
       "      <th>min</th>\n",
       "      <td>8283.700396</td>\n",
       "      <td>1.000000</td>\n",
       "    </tr>\n",
       "    <tr>\n",
       "      <th>25%</th>\n",
       "      <td>9665.569636</td>\n",
       "      <td>24.000000</td>\n",
       "    </tr>\n",
       "    <tr>\n",
       "      <th>50%</th>\n",
       "      <td>9975.243266</td>\n",
       "      <td>48.000000</td>\n",
       "    </tr>\n",
       "    <tr>\n",
       "      <th>75%</th>\n",
       "      <td>10301.413039</td>\n",
       "      <td>74.000000</td>\n",
       "    </tr>\n",
       "    <tr>\n",
       "      <th>max</th>\n",
       "      <td>11687.899235</td>\n",
       "      <td>100.000000</td>\n",
       "    </tr>\n",
       "  </tbody>\n",
       "</table>\n",
       "</div>"
      ],
      "text/plain": [
       "                 n1           n2\n",
       "count   1000.000000  1000.000000\n",
       "mean    9977.568119    49.298000\n",
       "std      490.007206    28.830581\n",
       "min     8283.700396     1.000000\n",
       "25%     9665.569636    24.000000\n",
       "50%     9975.243266    48.000000\n",
       "75%    10301.413039    74.000000\n",
       "max    11687.899235   100.000000"
      ]
     },
     "execution_count": 5,
     "metadata": {},
     "output_type": "execute_result"
    }
   ],
   "source": [
    "# Your code here\n",
    "df[['n1','n2']].describe()"
   ]
  },
  {
   "cell_type": "code",
   "execution_count": 6,
   "id": "d32a8118",
   "metadata": {
    "additional_cells_expected": true,
    "part_id": "ex1-part2",
    "span": "ex1-part2.code",
    "student": true
   },
   "outputs": [
    {
     "data": {
      "text/plain": [
       "city\n",
       "NYC    113\n",
       "SD     112\n",
       "BOS    112\n",
       "LA     109\n",
       "SF     100\n",
       "PHX     98\n",
       "PHI     96\n",
       "CHI     96\n",
       "DAL     84\n",
       "HOU     80\n",
       "Name: count, dtype: int64"
      ]
     },
     "execution_count": 6,
     "metadata": {},
     "output_type": "execute_result"
    }
   ],
   "source": [
    "df['city'].value_counts()"
   ]
  },
  {
   "cell_type": "code",
   "execution_count": 7,
   "id": "89d6dab1",
   "metadata": {
    "additional_cells_expected": true,
    "part_id": "ex1-part2",
    "span": "ex1-part2.code",
    "student": true
   },
   "outputs": [
    {
     "data": {
      "text/plain": [
       "<Axes: xlabel='city', ylabel='n1'>"
      ]
     },
     "execution_count": 7,
     "metadata": {},
     "output_type": "execute_result"
    },
    {
     "data": {
      "image/png": "[encoded data removed]",
      "text/plain": [
       "<Figure size 640x480 with 1 Axes>"
      ]
     },
     "metadata": {},
     "output_type": "display_data"
    }
   ],
   "source": [
    "import seaborn as sns\n",
    "import matplotlib.pyplot as plt\n",
    "\n",
    "sns.boxplot(x='city', y='n1', data=df)\n"
   ]
  },
  {
   "cell_type": "code",
   "execution_count": 8,
   "id": "df5799fe",
   "metadata": {
    "additional_cells_expected": true,
    "part_id": "ex1-part2",
    "span": "ex1-part2.code",
    "student": true
   },
   "outputs": [
    {
     "data": {
      "text/plain": [
       "<Axes: xlabel='city', ylabel='n2'>"
      ]
     },
     "execution_count": 8,
     "metadata": {},
     "output_type": "execute_result"
    },
    {
     "data": {
      "image/png": "[encoded data removed]",
      "text/plain": [
       "<Figure size 640x480 with 1 Axes>"
      ]
     },
     "metadata": {},
     "output_type": "display_data"
    }
   ],
   "source": [
    "sns.boxplot(x='city', y='n2', data=df)\n",
    "\n"
   ]
  },
  {
   "cell_type": "markdown",
   "id": "25320be1",
   "metadata": {
    "problem_id": "2"
   },
   "source": [
    "#### Exercise 2\n",
    "\n",
    "\n",
    "Generate a data set you can use with a supervised ML model.  The data should meet the following criteria:\n",
    "   - It should have 1000 rows\n",
    "   - It should have 6 columns, with one column (your \"target\" column being a boolean column), one categorical column with 5 categories, and 4 numeric columns.\n",
    "   - The numeric columns should have dramatically different scales - different means, different std. deviations.\n",
    "   - Each non-target column should have about 5% nulls.\n",
    "\n",
    "Make this data a little more interesting by calculating the target column using a noisy function of the other columns."
   ]
  },
  {
   "cell_type": "code",
   "execution_count": 9,
   "id": "a941ebec",
   "metadata": {
    "additional_cells_expected": true,
    "part_id": "2-part1",
    "span": "2-part1.code",
    "student": true
   },
   "outputs": [
    {
     "data": {
      "text/html": [
       "<div>\n",
       "<style scoped>\n",
       "    .dataframe tbody tr th:only-of-type {\n",
       "        vertical-align: middle;\n",
       "    }\n",
       "\n",
       "    .dataframe tbody tr th {\n",
       "        vertical-align: top;\n",
       "    }\n",
       "\n",
       "    .dataframe thead th {\n",
       "        text-align: right;\n",
       "    }\n",
       "</style>\n",
       "<table border=\"1\" class=\"dataframe\">\n",
       "  <thead>\n",
       "    <tr style=\"text-align: right;\">\n",
       "      <th></th>\n",
       "      <th>n1</th>\n",
       "      <th>n2</th>\n",
       "      <th>n3</th>\n",
       "      <th>n4</th>\n",
       "      <th>target</th>\n",
       "    </tr>\n",
       "  </thead>\n",
       "  <tbody>\n",
       "    <tr>\n",
       "      <th>count</th>\n",
       "      <td>950.000000</td>\n",
       "      <td>950.000000</td>\n",
       "      <td>950.000000</td>\n",
       "      <td>950.000000</td>\n",
       "      <td>1000.000000</td>\n",
       "    </tr>\n",
       "    <tr>\n",
       "      <th>mean</th>\n",
       "      <td>9988.950747</td>\n",
       "      <td>3992.637626</td>\n",
       "      <td>29505.750881</td>\n",
       "      <td>10.009157</td>\n",
       "      <td>0.464000</td>\n",
       "    </tr>\n",
       "    <tr>\n",
       "      <th>std</th>\n",
       "      <td>493.104133</td>\n",
       "      <td>193.762451</td>\n",
       "      <td>611.311151</td>\n",
       "      <td>2.499846</td>\n",
       "      <td>0.498952</td>\n",
       "    </tr>\n",
       "    <tr>\n",
       "      <th>min</th>\n",
       "      <td>8450.884332</td>\n",
       "      <td>3377.979961</td>\n",
       "      <td>27524.409558</td>\n",
       "      <td>1.905089</td>\n",
       "      <td>0.000000</td>\n",
       "    </tr>\n",
       "    <tr>\n",
       "      <th>25%</th>\n",
       "      <td>9664.937854</td>\n",
       "      <td>3863.179267</td>\n",
       "      <td>29112.086110</td>\n",
       "      <td>8.285755</td>\n",
       "      <td>0.000000</td>\n",
       "    </tr>\n",
       "    <tr>\n",
       "      <th>50%</th>\n",
       "      <td>9994.482219</td>\n",
       "      <td>3991.656584</td>\n",
       "      <td>29515.866666</td>\n",
       "      <td>10.004802</td>\n",
       "      <td>0.000000</td>\n",
       "    </tr>\n",
       "    <tr>\n",
       "      <th>75%</th>\n",
       "      <td>10343.440215</td>\n",
       "      <td>4121.916750</td>\n",
       "      <td>29906.284090</td>\n",
       "      <td>11.634888</td>\n",
       "      <td>1.000000</td>\n",
       "    </tr>\n",
       "    <tr>\n",
       "      <th>max</th>\n",
       "      <td>11651.902582</td>\n",
       "      <td>4560.746740</td>\n",
       "      <td>31481.455972</td>\n",
       "      <td>17.599838</td>\n",
       "      <td>1.000000</td>\n",
       "    </tr>\n",
       "  </tbody>\n",
       "</table>\n",
       "</div>"
      ],
      "text/plain": [
       "                 n1           n2            n3          n4       target\n",
       "count    950.000000   950.000000    950.000000  950.000000  1000.000000\n",
       "mean    9988.950747  3992.637626  29505.750881   10.009157     0.464000\n",
       "std      493.104133   193.762451    611.311151    2.499846     0.498952\n",
       "min     8450.884332  3377.979961  27524.409558    1.905089     0.000000\n",
       "25%     9664.937854  3863.179267  29112.086110    8.285755     0.000000\n",
       "50%     9994.482219  3991.656584  29515.866666   10.004802     0.000000\n",
       "75%    10343.440215  4121.916750  29906.284090   11.634888     1.000000\n",
       "max    11651.902582  4560.746740  31481.455972   17.599838     1.000000"
      ]
     },
     "execution_count": 9,
     "metadata": {},
     "output_type": "execute_result"
    }
   ],
   "source": [
    "cities = [\"NYC\", \"LA\", \"CHI\", \"BOS\", \"PHI\"] \n",
    "n = 1000\n",
    "df = pd.DataFrame({\n",
    "    \"city\": np.random.choice(cities, size=n, replace=True),\n",
    "    \"n1\": np.random.normal(loc=10000, scale=500, size=n),\n",
    "    \"n2\": np.random.normal(loc=4000, scale=200, size=n),\n",
    "    \"n3\": np.random.normal(loc=29500, scale=600, size=n),\n",
    "    \"n4\": np.random.normal(loc=10, scale=2.5, size=n),\n",
    "    \"target\": np.random.randint(0, 2, size=n)\n",
    "})\n",
    "\n",
    "for col in df.columns:\n",
    "    if col != \"target\": \n",
    "        n_missing = int(0.05 * len(df))  # 5% of rows\n",
    "        missing_idx = np.random.choice(df.index, size=n_missing, replace=False)\n",
    "        df.loc[missing_idx, col] = np.nan\n",
    "\n",
    "df.describe()"
   ]
  },
  {
   "cell_type": "markdown",
   "id": "53678de6",
   "metadata": {
    "problem_id": "ex2"
   },
   "source": [
    "#### Exercise 3\n",
    "\n",
    "Use whatever resources you need to figure out how to build an SKLearn ML pipelines. Use a pipeline to build an ML approach to predicting your target column in the preceding data with logistic regression.  I have set up the problem below so that you will write your code in a function function call that takes an SKLearn model and data frame and returns the results of a cross validation scoring routine.  \n",
    "\n",
    "I have not taught you how to do this; use the book, google, the notes, chatgpt, or whatever. This is a test of your ability to *find* information, and use this to construct a solution. Your solution should:\n",
    "\n",
    "- Use a transformer pipeline that processes your numeric and categorical features separately\n",
    "- Place everything in a pipeline with the classifier that is passed in to the function.\n",
    "- I've already implemented the call to cross_val_score - to make it work, you'll need to assign your pipeline to the `pipeline` variable.\n",
    "\n",
    "_Note: You could just feed this question to AI and get an answer, and chances are, it will be right. But if you do, you won't really learn much. So, be thoughtful in your use of AI here - you can use it to build the solution step by step, and it will explain how everything works. It's all in how you use it. So, it's your choice - go for the easy grade, or learn something._"
   ]
  },
  {
   "cell_type": "code",
   "execution_count": 15,
   "id": "f4bd23a7",
   "metadata": {
    "part_id": "ex2-part1",
    "span": "ex2-part1.fill",
    "student": true
   },
   "outputs": [
    {
     "name": "stdout",
     "output_type": "stream",
     "text": [
      "              precision    recall  f1-score   support\n",
      "\n",
      "           0       0.54      0.76      0.63       136\n",
      "           1       0.46      0.25      0.32       114\n",
      "\n",
      "    accuracy                           0.52       250\n",
      "   macro avg       0.50      0.50      0.48       250\n",
      "weighted avg       0.51      0.52      0.49       250\n",
      "\n",
      "F1 (5-fold): mean=0.259, std=0.014\n",
      "Fold scores: [0.233 0.267 0.268 0.258 0.271]\n"
     ]
    }
   ],
   "source": [
    "from sklearn.metrics import classification_report \n",
    "\n",
    "def run_classifier(df,classifier):\n",
    "    y = df[\"target\"].astype(int)  # logistic expects numeric; 0/1 from boolean\n",
    "    X = df.drop(columns=[\"target\"])\n",
    "\n",
    "    X_train, X_test, y_train, y_test = train_test_split(X, y, test_size=0.25, random_state=42)\n",
    "\n",
    "\n",
    "    numeric_features = [\"n1\", \"n2\",\"n3\",\"n4\"]\n",
    "    categorical_features = [\"city\"]\n",
    "\n",
    "    numeric_transformer = Pipeline([\n",
    "        ('imputer', SimpleImputer(strategy='mean')),\n",
    "        ('scaler', StandardScaler())\n",
    "    ])\n",
    "\n",
    "    categorical_transformer = Pipeline([\n",
    "        ('imputer', SimpleImputer(strategy='most_frequent')),\n",
    "        ('encoder', OneHotEncoder(handle_unknown='ignore'))\n",
    "    ])\n",
    "\n",
    "    preprocessor = ColumnTransformer(\n",
    "        transformers=[\n",
    "            ('num', numeric_transformer, numeric_features),\n",
    "            ('cat', categorical_transformer, categorical_features)\n",
    "        ]\n",
    "    )\n",
    "    Pipeline1 = Pipeline([\n",
    "        ('preprocess', preprocessor),\n",
    "        ('model', LogisticRegression(random_state= 42))\n",
    "    ])\n",
    "\n",
    "\n",
    "    Pipeline1.fit(X_train, y_train) \n",
    "    predictions = Pipeline1.fit(X_train, y_train) .predict(X_test) \n",
    "    print(classification_report(y_test, predictions))\n",
    "\n",
    "   \n",
    "    return cross_val_score(Pipeline1, X, y, scoring=\"f1\", cv=5)\n",
    "\n",
    "\n",
    "scores = run_classifier(df, LogisticRegression(random_state=42))\n",
    "print(f\"F1 (5-fold): mean={scores.mean():.3f}, std={scores.std():.3f}\")\n",
    "print(\"Fold scores:\", np.round(scores, 3))"
   ]
  },
  {
   "cell_type": "markdown",
   "id": "0f06eb0b",
   "metadata": {
    "part_id": "ex2-part2"
   },
   "source": [
    "Try using a `RandomForestClassifier` in the preceding pipeline. Just call `run_classifier` with a `RandomForestClassifier`, and print out the results as above."
   ]
  },
  {
   "cell_type": "code",
   "execution_count": 16,
   "id": "a65de74c",
   "metadata": {
    "part_id": "ex2-part2",
    "span": "ex2-part2.code",
    "student": true
   },
   "outputs": [
    {
     "name": "stdout",
     "output_type": "stream",
     "text": [
      "              precision    recall  f1-score   support\n",
      "\n",
      "           0       0.55      0.55      0.55       136\n",
      "           1       0.46      0.46      0.46       114\n",
      "\n",
      "    accuracy                           0.51       250\n",
      "   macro avg       0.50      0.50      0.50       250\n",
      "weighted avg       0.51      0.51      0.51       250\n",
      "\n",
      "F1 (5-fold): mean=0.362, std=0.057\n",
      "Fold scores: [0.296 0.4   0.432 0.293 0.389]\n"
     ]
    }
   ],
   "source": [
    "from sklearn.metrics import classification_report \n",
    "\n",
    "def run_classifier(df,classifier):\n",
    "    y = df[\"target\"].astype(int)  # logistic expects numeric; 0/1 from boolean\n",
    "    X = df.drop(columns=[\"target\"])\n",
    "\n",
    "    X_train, X_test, y_train, y_test = train_test_split(X, y, test_size=0.25, random_state=42)\n",
    "\n",
    "\n",
    "    numeric_features = [\"n1\", \"n2\",\"n3\",\"n4\"]\n",
    "    categorical_features = [\"city\"]\n",
    "\n",
    "    numeric_transformer = Pipeline([\n",
    "        ('imputer', SimpleImputer(strategy='mean')),\n",
    "        ('scaler', StandardScaler())\n",
    "    ])\n",
    "\n",
    "    categorical_transformer = Pipeline([\n",
    "        ('imputer', SimpleImputer(strategy='most_frequent')),\n",
    "        ('encoder', OneHotEncoder(handle_unknown='ignore'))\n",
    "    ])\n",
    "\n",
    "    preprocessor = ColumnTransformer(\n",
    "        transformers=[\n",
    "            ('num', numeric_transformer, numeric_features),\n",
    "            ('cat', categorical_transformer, categorical_features)\n",
    "        ]\n",
    "    )\n",
    "    Pipeline1 = Pipeline([\n",
    "        ('preprocess', preprocessor),\n",
    "        ('model', RandomForestClassifier(random_state= 42))\n",
    "    ])\n",
    "\n",
    "\n",
    "    Pipeline1.fit(X_train, y_train) \n",
    "    predictions = Pipeline1.fit(X_train, y_train) .predict(X_test) \n",
    "    print(classification_report(y_test, predictions))\n",
    "\n",
    "   \n",
    "    return cross_val_score(Pipeline1, X, y, scoring=\"f1\", cv=5)\n",
    "\n",
    "\n",
    "scores = run_classifier(df, RandomForestClassifier(random_state=42))\n",
    "print(f\"F1 (5-fold): mean={scores.mean():.3f}, std={scores.std():.3f}\")\n",
    "print(\"Fold scores:\", np.round(scores, 3))"
   ]
  },
  {
   "cell_type": "markdown",
   "id": "66bbb3b1",
   "metadata": {
    "part_id": "ex2-part3"
   },
   "source": [
    "Normally, `RandomForestClassifier`s are considered to be more powerful than `LogisticRegression`.  Depending on your data, this may or may not be the case. Reflect on your answers - which one does better here, and why do you think that is?  Once again, you might use AI, but you should probably also try to _understand_ the answer."
   ]
  },
  {
   "cell_type": "markdown",
   "id": "bdb72f7e",
   "metadata": {
    "part_id": "ex2-part3",
    "span": "ex2-part3.answer",
    "student": true
   },
   "source": [
    "The Random forest had a higher value for its f1 score than the logistic regression, Both models had similar scores ehich makes sense because there is randomly generated data which means that there should be essentially zero signal between the x and y variables. Random forest models may perform a little bit better because the model is more likely to make splits that can better capture how x effects y than a generalized linear model. An f1 score that is essentially .5 makes sense as there  essentially a 50/50 split of 1s and 0s in the output column."
   ]
  }
 ],
 "metadata": {
  "kernelspec": {
   "display_name": "Python 3",
   "language": "python",
   "name": "python3"
  },
  "language_info": {
   "codemirror_mode": {
    "name": "ipython",
    "version": 3
   },
   "file_extension": ".py",
   "mimetype": "text/x-python",
   "name": "python",
   "nbconvert_exporter": "python",
   "pygments_lexer": "ipython3",
   "version": "3.12.1"
  }
 },
 "nbformat": 4,
 "nbformat_minor": 5
}
